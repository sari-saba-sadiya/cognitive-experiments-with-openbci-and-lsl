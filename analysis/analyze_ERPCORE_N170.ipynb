{
 "cells": [
  {
   "cell_type": "code",
   "execution_count": 1008,
   "metadata": {},
   "outputs": [],
   "source": [
    "import mne\n",
    "import glob\n",
    "import numpy as np\n",
    "import matplotlib.pyplot as plt"
   ]
  },
  {
   "cell_type": "code",
   "execution_count": 1004,
   "metadata": {},
   "outputs": [],
   "source": [
    "class ERPCORE:\n",
    "    def __init__(self,filename,coding_method,path='./'):\n",
    "        self.raw = mne.io.read_raw_eeglab(path+filename)\n",
    "        self.coding_method = coding_method\n",
    "        self.sampling_rate = int(raw.info['sfreq'])+1\n",
    "        self.epochs = None\n",
    "        \n",
    "    def get_events(self,event_id,resmaple=None):\n",
    "        self.raw.set_channel_types({\"HEOG_left\": 'eog', \"HEOG_right\": 'eog', \"VEOG_lower\": 'eog'})\n",
    "        events = mne.events_from_annotations(self.raw)\n",
    "        descriptions = self.raw.annotations.description\n",
    "        # an inverse map to get real event codes and not arbitrary ones mne assigns \n",
    "        inv_map = {v: int(k.astype(np.float)) for k, v in events[1].items()}\n",
    "        new_event_dict = {np.str(ii):code2type(ii) for ii in range(1,181) if (ii <=80 or ii>=101)}\n",
    "        new_event_dict[np.str(0)] = 666 # new code for rejection\n",
    "        # create a new event array\n",
    "        events_arr = np.zeros(events[0].shape)\n",
    "        for ii in range(events[0].shape[0]):\n",
    "            events_arr[ii,0] = events[0][ii][0]\n",
    "            if self.coding_method(inv_map[events[0][ii][2]]) <= 4 and self.coding_method(inv_map[events[0][ii+1][2]]) == 202:\n",
    "                events_arr[ii,2] = 666\n",
    "            else:\n",
    "                events_arr[ii,2] = code2type(inv_map[events[0][ii][2]])\n",
    "        incorrect = sum(events_arr[:,2] == 666)/events_arr.shape[0]\n",
    "        print('There were {0:4f} wrong answers'.format(incorrect))\n",
    "        tmin = -0.2  # start of each epoch (200ms before the trigger)\n",
    "        tmax = 0.8  # end of each epoch (800ms after the trigger)\n",
    "        baseline = (None, 0)  # means from the first instant to t = 0\n",
    "        n_channels = len(raw.ch_names)\n",
    "        info = mne.create_info(raw.ch_names, sampling_rate, raw.get_channel_types())\n",
    "        # To reject find the min stdv in the eog channels\n",
    "        HEOG_left  = np.std(raw.get_data()[raw.ch_names.index('HEOG_left'),:])\n",
    "        HEOG_right = np.std(raw.get_data()[raw.ch_names.index('HEOG_right'),:])\n",
    "        VEOG_lower = np.std(raw.get_data()[raw.ch_names.index('VEOG_lower'),:])\n",
    "        reject = dict(eog=min(HEOG_left,HEOG_right,VEOG_lower))\n",
    "        self.epochs = mne.Epochs(raw, events_arr.astype(int), event_id, tmin, tmax, baseline=baseline, reject=reject, preload=True)\n",
    "        if resmaple:\n",
    "            self.epochs.resample(resmaple)\n",
    "            self.sampling_rate = int(resmaple)+1\n",
    "        return\n",
    "    \n",
    "    def evoked(self,condition_lst):\n",
    "        evoked_lst = []\n",
    "        for c in condition_lst:\n",
    "            evoked_lst.append(self.epochs[c].average())\n",
    "        return evoked_lst\n",
    "\n",
    "    def plot_evoked(self,evoked_lst,electrode='PO8'):\n",
    "        xx = [ii*(1000/self.sampling_rate)-200 for ii in range(self.sampling_rate)] \n",
    "        for evk in evoked_lst:\n",
    "            y = evk.to_data_frame()[electrode]\n",
    "            data1 = mne.filter.notch_filter(y,sampling_rate,60,filter_length=\"1.2s\",method=\"spectrum_fit\")\n",
    "            data = mne.filter.filter_data(data1,sampling_rate,0.1,None,filter_length=20,method=\"iir\")\n",
    "            plt.plot(xx,data)\n",
    "        return"
   ]
  },
  {
   "cell_type": "code",
   "execution_count": 1005,
   "metadata": {},
   "outputs": [],
   "source": [
    "event_id = dict(f=1, c=2, sf=3, sc=4)"
   ]
  },
  {
   "cell_type": "code",
   "execution_count": 1010,
   "metadata": {},
   "outputs": [
    {
     "data": {
      "text/plain": [
       "['../erpcore/N170/17_N170.set',\n",
       " '../erpcore/N170/5_N170.set',\n",
       " '../erpcore/N170/10_N170.set',\n",
       " '../erpcore/N170/1_N170.set',\n",
       " '../erpcore/N170/3_N170.set',\n",
       " '../erpcore/N170/13_N170.set',\n",
       " '../erpcore/N170/8_N170.set',\n",
       " '../erpcore/N170/9_N170.set',\n",
       " '../erpcore/N170/6_N170.set',\n",
       " '../erpcore/N170/4_N170.set',\n",
       " '../erpcore/N170/11_N170.set',\n",
       " '../erpcore/N170/2_N170.set',\n",
       " '../erpcore/N170/7_N170.set']"
      ]
     },
     "execution_count": 1010,
     "metadata": {},
     "output_type": "execute_result"
    }
   ],
   "source": [
    "glob.glob('../erpcore/N170/*.set')"
   ]
  },
  {
   "cell_type": "code",
   "execution_count": 1011,
   "metadata": {},
   "outputs": [
    {
     "data": {
      "text/plain": [
       "['__class__',\n",
       " '__delattr__',\n",
       " '__dict__',\n",
       " '__dir__',\n",
       " '__doc__',\n",
       " '__eq__',\n",
       " '__format__',\n",
       " '__ge__',\n",
       " '__getattribute__',\n",
       " '__gt__',\n",
       " '__hash__',\n",
       " '__init__',\n",
       " '__init_subclass__',\n",
       " '__le__',\n",
       " '__lt__',\n",
       " '__module__',\n",
       " '__ne__',\n",
       " '__new__',\n",
       " '__reduce__',\n",
       " '__reduce_ex__',\n",
       " '__repr__',\n",
       " '__setattr__',\n",
       " '__sizeof__',\n",
       " '__str__',\n",
       " '__subclasshook__',\n",
       " '__weakref__',\n",
       " 'coding_method',\n",
       " 'epochs',\n",
       " 'evoked',\n",
       " 'get_events',\n",
       " 'plot_evoked',\n",
       " 'raw',\n",
       " 'sampling_rate']"
      ]
     },
     "execution_count": 1011,
     "metadata": {},
     "output_type": "execute_result"
    }
   ],
   "source": [
    "dir(erp)"
   ]
  },
  {
   "cell_type": "code",
   "execution_count": 1007,
   "metadata": {},
   "outputs": [
    {
     "name": "stdout",
     "output_type": "stream",
     "text": [
      "Reading ../erpcore/N170/3_N170.fdt\n",
      "Used Annotations descriptions: ['1.0', '10.0', '101.0', '102.0', '103.0', '104.0', '105.0', '106.0', '107.0', '108.0', '109.0', '11.0', '110.0', '111.0', '112.0', '113.0', '114.0', '115.0', '116.0', '117.0', '118.0', '119.0', '12.0', '120.0', '121.0', '122.0', '123.0', '124.0', '125.0', '126.0', '127.0', '128.0', '129.0', '13.0', '130.0', '131.0', '132.0', '133.0', '134.0', '135.0', '136.0', '137.0', '138.0', '139.0', '14.0', '140.0', '141.0', '142.0', '143.0', '144.0', '145.0', '146.0', '147.0', '148.0', '149.0', '15.0', '150.0', '151.0', '152.0', '153.0', '154.0', '155.0', '156.0', '157.0', '158.0', '159.0', '16.0', '160.0', '161.0', '162.0', '163.0', '164.0', '165.0', '166.0', '167.0', '168.0', '169.0', '17.0', '170.0', '171.0', '172.0', '173.0', '174.0', '175.0', '176.0', '177.0', '178.0', '179.0', '18.0', '180.0', '19.0', '2.0', '20.0', '201.0', '202.0', '21.0', '22.0', '23.0', '24.0', '25.0', '26.0', '27.0', '28.0', '29.0', '3.0', '30.0', '31.0', '32.0', '33.0', '34.0', '35.0', '36.0', '37.0', '38.0', '39.0', '4.0', '40.0', '41.0', '42.0', '43.0', '44.0', '45.0', '46.0', '47.0', '48.0', '49.0', '5.0', '50.0', '51.0', '52.0', '53.0', '54.0', '55.0', '56.0', '57.0', '58.0', '59.0', '6.0', '60.0', '61.0', '62.0', '63.0', '64.0', '65.0', '66.0', '67.0', '68.0', '69.0', '7.0', '70.0', '71.0', '72.0', '73.0', '74.0', '75.0', '76.0', '77.0', '78.0', '79.0', '8.0', '80.0', '9.0']\n",
      "There were 0.028037 wrong answers\n",
      "302 matching events found\n",
      "Applying baseline correction (mode: mean)\n",
      "Not setting metadata\n",
      "0 projection items activated\n",
      "Loading data for 302 events and 1025 original time points ...\n",
      "    Rejecting  epoch based on EOG : ['VEOG_lower']\n",
      "    Rejecting  epoch based on EOG : ['VEOG_lower']\n",
      "    Rejecting  epoch based on EOG : ['VEOG_lower']\n",
      "    Rejecting  epoch based on EOG : ['VEOG_lower']\n",
      "    Rejecting  epoch based on EOG : ['VEOG_lower']\n",
      "    Rejecting  epoch based on EOG : ['VEOG_lower']\n",
      "    Rejecting  epoch based on EOG : ['VEOG_lower']\n",
      "    Rejecting  epoch based on EOG : ['VEOG_lower']\n",
      "    Rejecting  epoch based on EOG : ['VEOG_lower']\n",
      "    Rejecting  epoch based on EOG : ['VEOG_lower']\n",
      "    Rejecting  epoch based on EOG : ['VEOG_lower']\n",
      "    Rejecting  epoch based on EOG : ['VEOG_lower']\n",
      "    Rejecting  epoch based on EOG : ['VEOG_lower']\n",
      "    Rejecting  epoch based on EOG : ['VEOG_lower']\n",
      "    Rejecting  epoch based on EOG : ['VEOG_lower']\n",
      "    Rejecting  epoch based on EOG : ['VEOG_lower']\n",
      "    Rejecting  epoch based on EOG : ['VEOG_lower']\n",
      "    Rejecting  epoch based on EOG : ['VEOG_lower']\n",
      "    Rejecting  epoch based on EOG : ['VEOG_lower']\n",
      "    Rejecting  epoch based on EOG : ['VEOG_lower']\n",
      "    Rejecting  epoch based on EOG : ['VEOG_lower']\n",
      "    Rejecting  epoch based on EOG : ['VEOG_lower']\n",
      "    Rejecting  epoch based on EOG : ['VEOG_lower']\n",
      "23 bad epochs dropped\n",
      "Setting up high-pass filter at 0.1 Hz\n",
      "\n",
      "IIR filter parameters\n",
      "---------------------\n",
      "Butterworth highpass zero-phase (two-pass forward and reverse) non-causal filter:\n",
      "- Filter order 8 (effective, after forward-backward)\n",
      "- Cutoff at 0.10 Hz: -6.02 dB\n",
      "\n",
      "Setting up high-pass filter at 0.1 Hz\n",
      "\n",
      "IIR filter parameters\n",
      "---------------------\n",
      "Butterworth highpass zero-phase (two-pass forward and reverse) non-causal filter:\n",
      "- Filter order 8 (effective, after forward-backward)\n",
      "- Cutoff at 0.10 Hz: -6.02 dB\n",
      "\n"
     ]
    },
    {
     "data": {
      "image/png": "[encoded data removed]",
      "text/plain": [
       "<Figure size 432x288 with 1 Axes>"
      ]
     },
     "metadata": {
      "needs_background": "light"
     },
     "output_type": "display_data"
    }
   ],
   "source": [
    "erp = ERPCORE('3_N170.set',code2type,path='../erpcore/N170/')\n",
    "erp.get_events(event_id,resmaple=None)\n",
    "evoked_lst = erp.evoked(['f','c'])\n",
    "erp.plot_evoked(evoked_lst)"
   ]
  },
  {
   "cell_type": "code",
   "execution_count": 930,
   "metadata": {},
   "outputs": [
    {
     "name": "stdout",
     "output_type": "stream",
     "text": [
      "Reading ../erpcore/N170/3_N170.fdt\n",
      "Used Annotations descriptions: ['1.0', '10.0', '101.0', '102.0', '103.0', '104.0', '105.0', '106.0', '107.0', '108.0', '109.0', '11.0', '110.0', '111.0', '112.0', '113.0', '114.0', '115.0', '116.0', '117.0', '118.0', '119.0', '12.0', '120.0', '121.0', '122.0', '123.0', '124.0', '125.0', '126.0', '127.0', '128.0', '129.0', '13.0', '130.0', '131.0', '132.0', '133.0', '134.0', '135.0', '136.0', '137.0', '138.0', '139.0', '14.0', '140.0', '141.0', '142.0', '143.0', '144.0', '145.0', '146.0', '147.0', '148.0', '149.0', '15.0', '150.0', '151.0', '152.0', '153.0', '154.0', '155.0', '156.0', '157.0', '158.0', '159.0', '16.0', '160.0', '161.0', '162.0', '163.0', '164.0', '165.0', '166.0', '167.0', '168.0', '169.0', '17.0', '170.0', '171.0', '172.0', '173.0', '174.0', '175.0', '176.0', '177.0', '178.0', '179.0', '18.0', '180.0', '19.0', '2.0', '20.0', '201.0', '202.0', '21.0', '22.0', '23.0', '24.0', '25.0', '26.0', '27.0', '28.0', '29.0', '3.0', '30.0', '31.0', '32.0', '33.0', '34.0', '35.0', '36.0', '37.0', '38.0', '39.0', '4.0', '40.0', '41.0', '42.0', '43.0', '44.0', '45.0', '46.0', '47.0', '48.0', '49.0', '5.0', '50.0', '51.0', '52.0', '53.0', '54.0', '55.0', '56.0', '57.0', '58.0', '59.0', '6.0', '60.0', '61.0', '62.0', '63.0', '64.0', '65.0', '66.0', '67.0', '68.0', '69.0', '7.0', '70.0', '71.0', '72.0', '73.0', '74.0', '75.0', '76.0', '77.0', '78.0', '79.0', '8.0', '80.0', '9.0']\n"
     ]
    }
   ],
   "source": [
    "raw = mne.io.read_raw_eeglab('../erpcore/N170/3_N170.set')\n",
    "raw.set_channel_types({\"HEOG_left\": 'eog', \"HEOG_right\": 'eog', \"VEOG_lower\": 'eog'})\n",
    "events = mne.events_from_annotations(raw)\n",
    "descriptions = raw.annotations.description"
   ]
  },
  {
   "cell_type": "code",
   "execution_count": 931,
   "metadata": {},
   "outputs": [],
   "source": [
    "inv_map = {v: int(k.astype(np.float)) for k, v in events[1].items()}"
   ]
  },
  {
   "cell_type": "code",
   "execution_count": 932,
   "metadata": {},
   "outputs": [],
   "source": [
    "def code2type(code):\n",
    "    if 1 <= code <= 40:\n",
    "        return int(1)\n",
    "    elif 41 <= code <= 80:\n",
    "        return int(2)\n",
    "    elif 101 <= code <= 140:\n",
    "        return int(3)\n",
    "    elif 141 <= code <= 180:\n",
    "        return int(4)\n",
    "    else:\n",
    "        return int(code)"
   ]
  },
  {
   "cell_type": "code",
   "execution_count": 933,
   "metadata": {},
   "outputs": [],
   "source": [
    "new_event_dict = {np.str(ii):code2type(ii) for ii in range(1,181) if (ii <=80 or ii>=101)}\n",
    "new_event_dict[np.str(0)] = 666 #for rejection"
   ]
  },
  {
   "cell_type": "code",
   "execution_count": 934,
   "metadata": {},
   "outputs": [],
   "source": [
    "#new_event_dict"
   ]
  },
  {
   "cell_type": "code",
   "execution_count": 935,
   "metadata": {},
   "outputs": [],
   "source": [
    "events_arr = np.zeros(events[0].shape)"
   ]
  },
  {
   "cell_type": "code",
   "execution_count": 936,
   "metadata": {},
   "outputs": [],
   "source": [
    "for ii in range(events[0].shape[0]):\n",
    "    events_arr[ii,0] = events[0][ii][0]\n",
    "    if code2type(inv_map[events[0][ii][2]]) <= 4 and code2type(inv_map[events[0][ii+1][2]]) == 202:\n",
    "        events_arr[ii,2] = 666\n",
    "    else:\n",
    "        events_arr[ii,2] = code2type(inv_map[events[0][ii][2]])"
   ]
  },
  {
   "cell_type": "code",
   "execution_count": 937,
   "metadata": {},
   "outputs": [
    {
     "data": {
      "text/plain": [
       "array([202., 202.,   2., 201.,   3., 201.,   4., 201.,   2., 201.,   4.,\n",
       "       201.,   1., 201.,   4., 201., 666., 202., 666., 202.,   1., 201.,\n",
       "         1., 201.,   2., 201.,   1., 201.,   1., 201.,   4., 201.,   4.,\n",
       "       201.,   4., 201.,   3., 201.,   2., 201.,   1., 201.,   1., 201.,\n",
       "         2., 201.,   4., 201.,   3., 201.,   4., 201.,   3., 201.,   2.,\n",
       "       201.,   3., 201.,   1., 201.,   2., 201.,   4., 201.,   1., 201.,\n",
       "         1., 201.,   4., 201.,   2., 201.,   4., 201.,   4., 201.,   2.,\n",
       "       201.,   3., 201.,   3., 201.,   2., 201.,   2., 201., 666., 202.,\n",
       "         1., 201.,   1., 201.,   4., 201.,   1., 201.,   2., 201.,   4.,\n",
       "       201.,   2., 201.,   4., 201.,   1., 201.,   2., 201.,   4., 201.,\n",
       "         4., 201.,   3., 201.,   3., 201.,   2., 201.,   2., 201.,   1.,\n",
       "       201., 666., 202.,   1., 201.,   1., 201., 666., 202.,   2., 201.,\n",
       "         1., 201.,   3., 201.,   1., 201.,   4., 201.,   3., 201.,   1.,\n",
       "       201., 666., 202.,   1.,   4., 201.,   4., 201.,   1., 201.,   3.,\n",
       "       201.,   1., 201.,   4., 201.,   3., 201.,   4., 201., 666., 202.,\n",
       "         4., 201.,   1., 201.,   4., 201.,   2., 201.,   4., 201.,   2.,\n",
       "       201.,   3., 201.,   1., 201.,   4., 201.,   3., 201.,   2., 201.,\n",
       "         3., 201.,   1., 201.,   1., 201.,   2., 201.,   3., 201.,   2.,\n",
       "       201.,   1., 201.,   2., 201.,   1., 201.,   1., 201.,   2., 201.,\n",
       "         1., 201.,   2., 201.,   1., 201.,   2., 201.,   4., 201.,   4.,\n",
       "       201.,   2., 201.,   1., 201.,   2., 201.,   2., 201.,   3., 201.,\n",
       "         1., 201.,   3., 201.,   3., 201.,   1., 201.,   4., 201.,   4.,\n",
       "       201.,   3., 201.,   2., 201.,   1., 201.,   1., 201.,   2., 201.,\n",
       "         4., 201.,   3., 201.,   1., 201.,   2., 201.,   3., 201.,   2.,\n",
       "       201.,   1., 201., 666., 202.,   4., 201.,   1., 201.,   4., 201.,\n",
       "         2., 201., 666., 202.,   2., 201.,   1., 201.,   4., 201.,   1.,\n",
       "       201.,   4., 201.,   4., 201.,   2., 201.,   3., 201.,   1., 201.,\n",
       "         1., 201.,   1., 201.,   1., 201.,   2., 201.,   3., 201.,   3.,\n",
       "       201.,   3., 201.,   1., 201.,   4., 201.,   3., 201.,   3., 201.,\n",
       "         1., 201.,   1., 201.,   1., 201., 666., 202.,   4., 201.,   3.,\n",
       "       201.,   3., 201.,   3., 201.,   2., 201.,   4., 201.,   3., 201.,\n",
       "         1., 201.,   2., 201.,   4., 201.,   1., 201.,   3., 201.,   3.,\n",
       "       201.,   2., 201., 666., 202.,   1., 201.,   1., 201.,   2., 201.,\n",
       "         2., 201.,   1., 201.,   3., 201.,   2., 201.,   3., 201.,   4.,\n",
       "       201.,   4., 201.,   1., 201.,   2., 201.,   4., 201.,   1., 201.,\n",
       "         3., 201.,   3., 201.,   4., 201.,   2., 201.,   2., 201.,   2.,\n",
       "       201.,   3., 201., 666., 202.,   4., 201.,   4., 201.,   3., 201.,\n",
       "         4., 201.,   2., 201.,   3., 201.,   4., 201.,   1., 201.,   1.,\n",
       "       201.,   1., 201.,   3., 201.,   2., 201.,   2., 201.,   3., 201.,\n",
       "         2., 201.,   4., 201.,   3., 201.,   3., 201.,   3., 201.,   3.,\n",
       "       201.,   2., 201.,   2., 201.,   2., 201., 666., 202.,   1., 201.,\n",
       "       666., 202.,   3., 201.,   1., 201.,   3., 201.,   4., 201.,   3.,\n",
       "       201.,   3., 201.,   2., 201.,   4., 201.,   3., 201.,   2., 201.,\n",
       "         2., 201.,   2., 201.,   1., 201.,   4., 201.,   1., 201.,   3.,\n",
       "       201.,   2., 201.,   1., 201.,   2., 201.,   4., 201.,   3., 201.,\n",
       "         1., 201.,   4., 201.,   4., 201.,   2., 201.,   2., 201.,   3.,\n",
       "       201.,   3., 201.,   4., 201.,   3., 201.,   2., 201., 666., 202.,\n",
       "         4., 201.,   3., 201.,   4., 201.,   1., 201.,   3., 201.,   3.,\n",
       "       201.,   3., 201.,   1., 201.,   3., 201.,   4., 201.,   2., 201.,\n",
       "         3., 201.,   4., 201.,   1., 201.,   3., 201.,   2., 201.,   3.,\n",
       "       201.,   1., 201.,   4., 201.,   1., 201.,   2., 201., 666., 202.,\n",
       "         2., 201.,   4., 201.,   2., 201.,   2., 201.,   3., 201.,   4.,\n",
       "       201.,   1., 201.,   2., 201.,   2., 201.,   1., 201.,   3., 201.,\n",
       "         4., 201.,   4., 201.,   4., 201.,   3., 201.,   4., 201.,   3.,\n",
       "       201.,   3., 201.,   4., 201.,   2., 201.,   1., 201.,   4., 201.,\n",
       "         3., 201.,   1., 201.,   4., 201., 666., 202.,   1., 201.,   3.,\n",
       "       201.,   1., 201.,   4., 201.,   1., 201., 666., 202.,   1., 201.,\n",
       "         4., 201.,   4., 201.,   2., 201.,   3., 201.,   2., 201.,   3.,\n",
       "       201.,   2., 201., 202.])"
      ]
     },
     "execution_count": 937,
     "metadata": {},
     "output_type": "execute_result"
    }
   ],
   "source": [
    "events_arr[:,2]"
   ]
  },
  {
   "cell_type": "code",
   "execution_count": 938,
   "metadata": {},
   "outputs": [
    {
     "data": {
      "text/plain": [
       "0.028037383177570093"
      ]
     },
     "execution_count": 938,
     "metadata": {},
     "output_type": "execute_result"
    }
   ],
   "source": [
    "sum(events_arr[:,2] == 666)/events_arr.shape[0]"
   ]
  },
  {
   "cell_type": "code",
   "execution_count": 939,
   "metadata": {},
   "outputs": [],
   "source": [
    "tmin = -0.2  # start of each epoch (200ms before the trigger)\n",
    "tmax = 0.8  # end of each epoch (800ms after the trigger)\n",
    "#baseline = (None, 0)  # means from the first instant to t = 0"
   ]
  },
  {
   "cell_type": "code",
   "execution_count": 940,
   "metadata": {},
   "outputs": [],
   "source": [
    "n_channels = len(raw.ch_names)\n",
    "sampling_rate = 1025\n",
    "info = mne.create_info(raw.ch_names, sampling_rate, raw.get_channel_types())\n",
    "event_id = dict(f=1, c=2, sf=3, sc=4)"
   ]
  },
  {
   "cell_type": "code",
   "execution_count": 944,
   "metadata": {},
   "outputs": [],
   "source": [
    "reject = dict(eog=.0003666818589143729)"
   ]
  },
  {
   "cell_type": "code",
   "execution_count": 942,
   "metadata": {},
   "outputs": [],
   "source": [
    "HEOG_left = raw.get_data()[raw.ch_names.index('HEOG_left'),:]\n",
    "hl = np.std(HEOG_left)\n",
    "HEOG_right = raw.get_data()[raw.ch_names.index('HEOG_right'),:]\n",
    "hr = np.std(HEOG_right)\n",
    "VEOG_lower = raw.get_data()[raw.ch_names.index('VEOG_lower'),:]\n",
    "vl = np.std(VEOG_lower)"
   ]
  },
  {
   "cell_type": "code",
   "execution_count": 943,
   "metadata": {},
   "outputs": [
    {
     "data": {
      "text/plain": [
       "0.0003666818589143729"
      ]
     },
     "execution_count": 943,
     "metadata": {},
     "output_type": "execute_result"
    }
   ],
   "source": [
    "min(hl,hr,vl)"
   ]
  },
  {
   "cell_type": "code",
   "execution_count": 945,
   "metadata": {},
   "outputs": [
    {
     "data": {
      "text/plain": [
       "0.0003666818589143729"
      ]
     },
     "execution_count": 945,
     "metadata": {},
     "output_type": "execute_result"
    }
   ],
   "source": [
    "np.std(VEOG_lower)"
   ]
  },
  {
   "cell_type": "code",
   "execution_count": 946,
   "metadata": {},
   "outputs": [
    {
     "data": {
      "text/plain": [
       "0.00028"
      ]
     },
     "execution_count": 946,
     "metadata": {},
     "output_type": "execute_result"
    }
   ],
   "source": [
    "280e-6"
   ]
  },
  {
   "cell_type": "code",
   "execution_count": 947,
   "metadata": {},
   "outputs": [
    {
     "data": {
      "text/plain": [
       "30"
      ]
     },
     "execution_count": 947,
     "metadata": {},
     "output_type": "execute_result"
    }
   ],
   "source": [
    "raw.ch_names.index('HEOG_left')"
   ]
  },
  {
   "cell_type": "code",
   "execution_count": 948,
   "metadata": {},
   "outputs": [
    {
     "name": "stdout",
     "output_type": "stream",
     "text": [
      "302 matching events found\n",
      "Applying baseline correction (mode: mean)\n",
      "Not setting metadata\n",
      "0 projection items activated\n",
      "Loading data for 302 events and 1025 original time points ...\n",
      "    Rejecting  epoch based on EOG : ['VEOG_lower']\n",
      "    Rejecting  epoch based on EOG : ['VEOG_lower']\n",
      "    Rejecting  epoch based on EOG : ['VEOG_lower']\n",
      "    Rejecting  epoch based on EOG : ['VEOG_lower']\n",
      "    Rejecting  epoch based on EOG : ['VEOG_lower']\n",
      "    Rejecting  epoch based on EOG : ['VEOG_lower']\n",
      "    Rejecting  epoch based on EOG : ['VEOG_lower']\n",
      "    Rejecting  epoch based on EOG : ['VEOG_lower']\n",
      "    Rejecting  epoch based on EOG : ['VEOG_lower']\n",
      "    Rejecting  epoch based on EOG : ['VEOG_lower']\n",
      "    Rejecting  epoch based on EOG : ['VEOG_lower']\n",
      "    Rejecting  epoch based on EOG : ['VEOG_lower']\n",
      "    Rejecting  epoch based on EOG : ['VEOG_lower']\n",
      "    Rejecting  epoch based on EOG : ['VEOG_lower']\n",
      "    Rejecting  epoch based on EOG : ['VEOG_lower']\n",
      "    Rejecting  epoch based on EOG : ['VEOG_lower']\n",
      "    Rejecting  epoch based on EOG : ['VEOG_lower']\n",
      "    Rejecting  epoch based on EOG : ['VEOG_lower']\n",
      "    Rejecting  epoch based on EOG : ['VEOG_lower']\n",
      "    Rejecting  epoch based on EOG : ['VEOG_lower']\n",
      "    Rejecting  epoch based on EOG : ['VEOG_lower']\n",
      "    Rejecting  epoch based on EOG : ['VEOG_lower']\n",
      "    Rejecting  epoch based on EOG : ['VEOG_lower']\n",
      "23 bad epochs dropped\n"
     ]
    }
   ],
   "source": [
    "epochs = mne.Epochs(raw, events_arr.astype(int), event_id, tmin, tmax, baseline=baseline, reject=reject, preload=True)\n",
    "#custom_epochs = mne.EpochsArray(rawCopy.get_data(), info, events_arr.astype(int), tmin, event_id)"
   ]
  },
  {
   "cell_type": "code",
   "execution_count": 1014,
   "metadata": {},
   "outputs": [
    {
     "data": {
      "text/plain": [
       "['__class__',\n",
       " '__contains__',\n",
       " '__delattr__',\n",
       " '__dict__',\n",
       " '__dir__',\n",
       " '__doc__',\n",
       " '__eq__',\n",
       " '__format__',\n",
       " '__ge__',\n",
       " '__getattribute__',\n",
       " '__getitem__',\n",
       " '__gt__',\n",
       " '__hash__',\n",
       " '__init__',\n",
       " '__init_subclass__',\n",
       " '__iter__',\n",
       " '__le__',\n",
       " '__len__',\n",
       " '__lt__',\n",
       " '__module__',\n",
       " '__ne__',\n",
       " '__new__',\n",
       " '__next__',\n",
       " '__reduce__',\n",
       " '__reduce_ex__',\n",
       " '__repr__',\n",
       " '__setattr__',\n",
       " '__sizeof__',\n",
       " '__slotnames__',\n",
       " '__str__',\n",
       " '__subclasshook__',\n",
       " '__weakref__',\n",
       " '_bad_dropped',\n",
       " '_channel_type_idx',\n",
       " '_check_consistency',\n",
       " '_check_metadata',\n",
       " '_compute_aggregate',\n",
       " '_current',\n",
       " '_data',\n",
       " '_decim',\n",
       " '_decim_slice',\n",
       " '_detrend_offset_decim',\n",
       " '_do_delayed_proj',\n",
       " '_evoked_from_epoch_data',\n",
       " '_filename',\n",
       " '_get_channel_positions',\n",
       " '_get_data',\n",
       " '_get_epoch_from_raw',\n",
       " '_getitem',\n",
       " '_is_good_epoch',\n",
       " '_item_to_select',\n",
       " '_keys_to_idx',\n",
       " '_metadata',\n",
       " '_name',\n",
       " '_offset',\n",
       " '_pick_drop_channels',\n",
       " '_project_epoch',\n",
       " '_projector',\n",
       " '_raw',\n",
       " '_raw_times',\n",
       " '_reject_setup',\n",
       " '_reject_time',\n",
       " '_set_channel_positions',\n",
       " '_set_times',\n",
       " '_size',\n",
       " '_times_readonly',\n",
       " '_update_first_last',\n",
       " 'add_channels',\n",
       " 'add_proj',\n",
       " 'anonymize',\n",
       " 'apply_baseline',\n",
       " 'apply_hilbert',\n",
       " 'apply_proj',\n",
       " 'as_type',\n",
       " 'average',\n",
       " 'baseline',\n",
       " 'ch_names',\n",
       " 'compensation_grade',\n",
       " 'copy',\n",
       " 'crop',\n",
       " 'decimate',\n",
       " 'del_proj',\n",
       " 'detrend',\n",
       " 'drop',\n",
       " 'drop_bad',\n",
       " 'drop_channels',\n",
       " 'drop_log',\n",
       " 'drop_log_stats',\n",
       " 'equalize_event_counts',\n",
       " 'event_id',\n",
       " 'events',\n",
       " 'filename',\n",
       " 'filter',\n",
       " 'flat',\n",
       " 'get_channel_types',\n",
       " 'get_data',\n",
       " 'info',\n",
       " 'interpolate_bads',\n",
       " 'iter_evoked',\n",
       " 'load_data',\n",
       " 'metadata',\n",
       " 'next',\n",
       " 'pick',\n",
       " 'pick_channels',\n",
       " 'pick_types',\n",
       " 'picks',\n",
       " 'plot',\n",
       " 'plot_drop_log',\n",
       " 'plot_image',\n",
       " 'plot_projs_topomap',\n",
       " 'plot_psd',\n",
       " 'plot_psd_topomap',\n",
       " 'plot_sensors',\n",
       " 'plot_topo_image',\n",
       " 'preload',\n",
       " 'proj',\n",
       " 'reject',\n",
       " 'reject_by_annotation',\n",
       " 'reject_tmax',\n",
       " 'reject_tmin',\n",
       " 'rename_channels',\n",
       " 'reorder_channels',\n",
       " 'resample',\n",
       " 'save',\n",
       " 'savgol_filter',\n",
       " 'selection',\n",
       " 'set_channel_types',\n",
       " 'set_eeg_reference',\n",
       " 'set_meas_date',\n",
       " 'set_montage',\n",
       " 'shift_time',\n",
       " 'standard_error',\n",
       " 'subtract_evoked',\n",
       " 'time_as_index',\n",
       " 'times',\n",
       " 'tmax',\n",
       " 'tmin',\n",
       " 'to_data_frame',\n",
       " 'verbose']"
      ]
     },
     "execution_count": 1014,
     "metadata": {},
     "output_type": "execute_result"
    }
   ],
   "source": [
    "dir(epochs)"
   ]
  },
  {
   "cell_type": "code",
   "execution_count": 950,
   "metadata": {},
   "outputs": [
    {
     "data": {
      "text/plain": [
       "<Epochs  |   279 events (all good), -0.200195 - 0.795898 sec, baseline [None, 0], ~18.1 MB, data loaded,\n",
       " 'c': 67\n",
       " 'f': 73\n",
       " 'sc': 67\n",
       " 'sf': 72>"
      ]
     },
     "execution_count": 950,
     "metadata": {},
     "output_type": "execute_result"
    }
   ],
   "source": [
    "#epochs.load_data()\n",
    "sampling_rate = 256\n",
    "epochs.resample(sampling_rate)"
   ]
  },
  {
   "cell_type": "code",
   "execution_count": 951,
   "metadata": {},
   "outputs": [],
   "source": [
    "evokedF = epochs['f'].average()\n",
    "evokedC = epochs['c'].average()"
   ]
  },
  {
   "cell_type": "code",
   "execution_count": 952,
   "metadata": {},
   "outputs": [],
   "source": [
    "xx = [ii*(1000/sampling_rate)-200 for ii in range(sampling_rate)] "
   ]
  },
  {
   "cell_type": "code",
   "execution_count": 953,
   "metadata": {},
   "outputs": [
    {
     "data": {
      "text/plain": [
       "Index(['time', 'FP1', 'F3', 'F7', 'FC3', 'C3', 'C5', 'P3', 'P7', 'P9', 'PO7',\n",
       "       'PO3', 'O1', 'Oz', 'Pz', 'CPz', 'FP2', 'Fz', 'F4', 'F8', 'FC4', 'FCz',\n",
       "       'Cz', 'C4', 'C6', 'P4', 'P8', 'P10', 'PO8', 'PO4', 'O2'],\n",
       "      dtype='object')"
      ]
     },
     "execution_count": 953,
     "metadata": {},
     "output_type": "execute_result"
    }
   ],
   "source": [
    "evokedF.to_data_frame().columns"
   ]
  },
  {
   "cell_type": "code",
   "execution_count": 954,
   "metadata": {},
   "outputs": [
    {
     "name": "stdout",
     "output_type": "stream",
     "text": [
      "Setting up high-pass filter at 0.1 Hz\n",
      "\n",
      "IIR filter parameters\n",
      "---------------------\n",
      "Butterworth highpass zero-phase (two-pass forward and reverse) non-causal filter:\n",
      "- Filter order 8 (effective, after forward-backward)\n",
      "- Cutoff at 0.10 Hz: -6.02 dB\n",
      "\n",
      "Setting up high-pass filter at 0.1 Hz\n",
      "\n",
      "IIR filter parameters\n",
      "---------------------\n",
      "Butterworth highpass zero-phase (two-pass forward and reverse) non-causal filter:\n",
      "- Filter order 8 (effective, after forward-backward)\n",
      "- Cutoff at 0.10 Hz: -6.02 dB\n",
      "\n"
     ]
    },
    {
     "data": {
      "text/plain": [
       "[<matplotlib.lines.Line2D at 0x7f134c5ec810>,\n",
       " <matplotlib.lines.Line2D at 0x7f134c5f3510>]"
      ]
     },
     "execution_count": 954,
     "metadata": {},
     "output_type": "execute_result"
    },
    {
     "data": {
      "image/png": "[encoded data removed]",
      "text/plain": [
       "<Figure size 432x288 with 1 Axes>"
      ]
     },
     "metadata": {
      "needs_background": "light"
     },
     "output_type": "display_data"
    }
   ],
   "source": [
    "contrast = mne.combine_evoked([evokedF, -evokedC], weights='equal')\n",
    "yf = evokedF.to_data_frame()['PO8']\n",
    "yc = evokedC.to_data_frame()['PO8']\n",
    "fdata1 = mne.filter.notch_filter(yf,sampling_rate,60,filter_length=\"1.2s\",method=\"spectrum_fit\")\n",
    "fdata = mne.filter.filter_data(fdata1,sampling_rate,0.1,None,filter_length=20,method=\"iir\")\n",
    "cdata1 = mne.filter.notch_filter(yc,sampling_rate,60,filter_length=\"1.2s\",method=\"spectrum_fit\")\n",
    "cdata = mne.filter.filter_data(cdata1,sampling_rate,0.1,None,filter_length=20,method=\"iir\")\n",
    "#plt.plot(xx,yf,xx,yc)\n",
    "plt.plot(xx,fdata,xx,cdata)"
   ]
  },
  {
   "cell_type": "code",
   "execution_count": null,
   "metadata": {},
   "outputs": [],
   "source": []
  },
  {
   "cell_type": "code",
   "execution_count": null,
   "metadata": {},
   "outputs": [],
   "source": []
  },
  {
   "cell_type": "code",
   "execution_count": null,
   "metadata": {},
   "outputs": [],
   "source": []
  }
 ],
 "metadata": {
  "kernelspec": {
   "display_name": "Python 3",
   "language": "python",
   "name": "python3"
  },
  "language_info": {
   "codemirror_mode": {
    "name": "ipython",
    "version": 3
   },
   "file_extension": ".py",
   "mimetype": "text/x-python",
   "name": "python",
   "nbconvert_exporter": "python",
   "pygments_lexer": "ipython3",
   "version": "3.7.4"
  }
 },
 "nbformat": 4,
 "nbformat_minor": 2
}
